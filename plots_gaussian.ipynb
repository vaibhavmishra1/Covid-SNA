{
  "nbformat": 4,
  "nbformat_minor": 0,
  "metadata": {
    "colab": {
      "name": "plots_gaussian",
      "provenance": []
    },
    "kernelspec": {
      "name": "python3",
      "display_name": "Python 3"
    }
  },
  "cells": [
    {
      "cell_type": "code",
      "metadata": {
        "id": "ZqWZAKc24jEc"
      },
      "source": [
        "import random\n",
        "import math\n",
        "import matplotlib.pyplot as plt"
      ],
      "execution_count": null,
      "outputs": []
    },
    {
      "cell_type": "code",
      "metadata": {
        "id": "1gs-u38_4r49"
      },
      "source": [
        "n = 1000\n",
        "seed = int(0.05*n)\n",
        "beta = 0.3\n",
        "gamma = 0.3\n",
        "susTOexpDISTANCE = 40\n",
        "movementDISTANCE = 100"
      ],
      "execution_count": null,
      "outputs": []
    },
    {
      "cell_type": "code",
      "metadata": {
        "id": "mh7nBRKh43Iu"
      },
      "source": [
        "coordinates = []\n",
        "for i in range(200):\n",
        "    r = random.randint(0, 10) + random.random()\n",
        "    theta = random.random() * 2 * 3.14\n",
        "    x = r * math.cos(theta)\n",
        "    y = r * math.sin(theta)\n",
        "    coordinates.append([x, y])\n",
        "\n",
        "for i in range(int(n/5)):\n",
        "    r = random.randint(10, 20) + random.random()\n",
        "    theta = random.random() * 2 * 3.14\n",
        "    x = r * math.cos(theta)\n",
        "    y = r * math.sin(theta)\n",
        "    coordinates.append([x, y])\n",
        "\n",
        "for i in range(int(n/5)):\n",
        "    r = random.randint(20, 30) + random.random()\n",
        "    theta = random.random() * 2 * 3.14\n",
        "    x = r * math.cos(theta)\n",
        "    y = r * math.sin(theta)\n",
        "    coordinates.append([x, y])\n",
        "\n",
        "for i in range(int(n/5)):\n",
        "    r = random.randint(30, 40) + random.random()\n",
        "    theta = random.random() * 2 * 3.14\n",
        "    x = r * math.cos(theta)\n",
        "    y = r * math.sin(theta)\n",
        "    coordinates.append([x, y])\n",
        "\n",
        "for i in range(int(n/5)):\n",
        "    r = random.randint(40, 50) + random.random()\n",
        "    theta = random.random() * 2 * 3.14\n",
        "    x = r * math.cos(theta)\n",
        "    y = r * math.sin(theta)\n",
        "    coordinates.append([x, y])\n",
        "\n",
        "t = 0\n",
        "t_counts = []\n",
        "\n",
        "susceptible = [i for i in  range(n)]\n",
        "exposed = []\n",
        "infected = []\n",
        "recovered = []"
      ],
      "execution_count": null,
      "outputs": []
    },
    {
      "cell_type": "code",
      "metadata": {
        "id": "YMR6-jq_606W",
        "outputId": "abf1487b-1230-42bd-aad3-139e34203000",
        "colab": {
          "base_uri": "https://localhost:8080/",
          "height": 279
        }
      },
      "source": [
        "plt.plot([i[0] for i in coordinates], [i[1] for i in coordinates], 'ro')\n",
        "plt.xlabel('x -------->')\n",
        "plt.ylabel('y -------->')\n",
        "plt.show()"
      ],
      "execution_count": null,
      "outputs": [
        {
          "output_type": "display_data",
          "data": {
            "image/png": "[encoded data removed]",
            "text/plain": [
              "<Figure size 432x288 with 1 Axes>"
            ]
          },
          "metadata": {
            "tags": [],
            "needs_background": "light"
          }
        }
      ]
    },
    {
      "cell_type": "code",
      "metadata": {
        "id": "0V_3LYeT7e_b"
      },
      "source": [
        "distance = [[0 for i in range(n)] for i in range(n)]\n",
        "for i in range(n) :\n",
        "    for j in range(n) :\n",
        "        distance[i][j] = math.sqrt(pow(coordinates[i][0] - coordinates[j][0], 2) + pow(coordinates[i][1] - coordinates[j][1], 2))"
      ],
      "execution_count": null,
      "outputs": []
    },
    {
      "cell_type": "code",
      "metadata": {
        "id": "KtffRcTO7lk0"
      },
      "source": [
        "for i in range(seed) :\n",
        "    temp = random.randint(0, n-1)\n",
        "    while(temp in infected) :\n",
        "        temp = random.randint(0, n-1)\n",
        "    infected.append(temp)\n",
        "    susceptible.remove(temp)"
      ],
      "execution_count": null,
      "outputs": []
    },
    {
      "cell_type": "code",
      "metadata": {
        "id": "N4Ph_nrm7nsQ"
      },
      "source": [
        "for i in infected :\n",
        "    for j in range(n) :\n",
        "        if(distance[i][j] <= susTOexpDISTANCE) :\n",
        "            if(j in susceptible) :\n",
        "                susceptible.remove(j)\n",
        "                exposed.append(j)\n",
        "\n",
        "t_counts.append([len(susceptible), len(exposed), len(infected), len(recovered)])"
      ],
      "execution_count": null,
      "outputs": []
    },
    {
      "cell_type": "code",
      "metadata": {
        "id": "rhjAYtFR7pvq"
      },
      "source": [
        "while(True) :\n",
        "    t += 1\n",
        "\n",
        "    for i in infected :\n",
        "        p = random.random()\n",
        "        if p < gamma :\n",
        "            infected.remove(i)\n",
        "            recovered.append(i)\n",
        "\n",
        "    for i in exposed :\n",
        "        p = random.random()\n",
        "        if p > beta :\n",
        "            exposed.remove(i)\n",
        "            infected.append(i)\n",
        "        else :\n",
        "            exposed.remove(i)\n",
        "            recovered.append(i)\n",
        "\n",
        "    for i in infected :\n",
        "        for j in range(n) :\n",
        "            if(distance[i][j] <= susTOexpDISTANCE) :\n",
        "                if(j in susceptible) :\n",
        "                    susceptible.remove(j)\n",
        "                    exposed.append(j)\n",
        "\n",
        "    t_counts.append([len(susceptible), len(exposed), len(infected), len(recovered)])\n",
        "    if(t_counts[t] == t_counts[t-1]) :\n",
        "        break"
      ],
      "execution_count": null,
      "outputs": []
    },
    {
      "cell_type": "code",
      "metadata": {
        "id": "2rsgiNCc73Le",
        "outputId": "f259f501-4c3a-4abd-9367-b6b0da7805b4",
        "colab": {
          "base_uri": "https://localhost:8080/",
          "height": 279
        }
      },
      "source": [
        "plt.plot([i for i in range(len(t_counts))], [i[0] for i in t_counts], 'b', label='susceptible')\n",
        "plt.plot([i for i in range(len(t_counts))], [i[1] for i in t_counts], 'y', label='exposed')\n",
        "plt.plot([i for i in range(len(t_counts))], [i[2] for i in t_counts], 'r', label='infected')\n",
        "plt.plot([i for i in range(len(t_counts))], [i[3] for i in t_counts], 'g', label='recovered')\n",
        "\n",
        "plt.legend()\n",
        "plt.xlabel('time ------->')\n",
        "plt.show()"
      ],
      "execution_count": null,
      "outputs": [
        {
          "output_type": "display_data",
          "data": {
            "image/png": "[encoded data removed]",
            "text/plain": [
              "<Figure size 432x288 with 1 Axes>"
            ]
          },
          "metadata": {
            "tags": [],
            "needs_background": "light"
          }
        }
      ]
    },
    {
      "cell_type": "code",
      "metadata": {
        "id": "F24QxeyE9Vz5"
      },
      "source": [
        ""
      ],
      "execution_count": null,
      "outputs": []
    }
  ]
}